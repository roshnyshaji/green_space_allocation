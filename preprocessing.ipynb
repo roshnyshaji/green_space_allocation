{
 "cells": [
  {
   "cell_type": "code",
   "execution_count": 24,
   "metadata": {},
   "outputs": [],
   "source": [
    "import numpy as np\n",
    "import pandas as pd\n",
    "from PIL import Image\n",
    "import os\n",
    "import matplotlib.pyplot as plt\n",
    "import cv2"
   ]
  },
  {
   "cell_type": "code",
   "execution_count": 25,
   "metadata": {},
   "outputs": [],
   "source": [
    "from sklearn.model_selection import train_test_split\n",
    "import tensorflow as tf\n",
    "from tensorflow.keras.applications import VGG16\n",
    "from tensorflow.keras.models import Model\n",
    "from tensorflow.keras.layers import Input, Conv2D, MaxPooling2D, UpSampling2D, concatenate\n",
    "from tensorflow.keras.optimizers import Adam\n",
    "from tensorflow.keras.losses import SparseCategoricalCrossentropy\n",
    "from tensorflow.keras.callbacks import ModelCheckpoint, EarlyStopping"
   ]
  },
  {
   "cell_type": "code",
   "execution_count": 27,
   "metadata": {},
   "outputs": [
    {
     "data": {
      "text/plain": [
       "image_id            0\n",
       "split               0\n",
       "sat_image_path      0\n",
       "mask_path         343\n",
       "dtype: int64"
      ]
     },
     "execution_count": 27,
     "metadata": {},
     "output_type": "execute_result"
    }
   ],
   "source": [
    "# Load the metadata\n",
    "metadata_path = r\"metadata.csv\"\n",
    "\n",
    "metadata = pd.read_csv(metadata_path)\n",
    "metadata.isna().sum()"
   ]
  },
  {
   "cell_type": "code",
   "execution_count": 28,
   "metadata": {},
   "outputs": [
    {
     "data": {
      "text/html": [
       "<div>\n",
       "<style scoped>\n",
       "    .dataframe tbody tr th:only-of-type {\n",
       "        vertical-align: middle;\n",
       "    }\n",
       "\n",
       "    .dataframe tbody tr th {\n",
       "        vertical-align: top;\n",
       "    }\n",
       "\n",
       "    .dataframe thead th {\n",
       "        text-align: right;\n",
       "    }\n",
       "</style>\n",
       "<table border=\"1\" class=\"dataframe\">\n",
       "  <thead>\n",
       "    <tr style=\"text-align: right;\">\n",
       "      <th></th>\n",
       "      <th>image_id</th>\n",
       "      <th>split</th>\n",
       "      <th>sat_image_path</th>\n",
       "      <th>mask_path</th>\n",
       "    </tr>\n",
       "  </thead>\n",
       "  <tbody>\n",
       "    <tr>\n",
       "      <th>0</th>\n",
       "      <td>100694</td>\n",
       "      <td>train</td>\n",
       "      <td>train/100694_sat.jpg</td>\n",
       "      <td>train/100694_mask.png</td>\n",
       "    </tr>\n",
       "    <tr>\n",
       "      <th>1</th>\n",
       "      <td>102122</td>\n",
       "      <td>train</td>\n",
       "      <td>train/102122_sat.jpg</td>\n",
       "      <td>train/102122_mask.png</td>\n",
       "    </tr>\n",
       "    <tr>\n",
       "      <th>2</th>\n",
       "      <td>10233</td>\n",
       "      <td>train</td>\n",
       "      <td>train/10233_sat.jpg</td>\n",
       "      <td>train/10233_mask.png</td>\n",
       "    </tr>\n",
       "    <tr>\n",
       "      <th>3</th>\n",
       "      <td>103665</td>\n",
       "      <td>train</td>\n",
       "      <td>train/103665_sat.jpg</td>\n",
       "      <td>train/103665_mask.png</td>\n",
       "    </tr>\n",
       "    <tr>\n",
       "      <th>4</th>\n",
       "      <td>103730</td>\n",
       "      <td>train</td>\n",
       "      <td>train/103730_sat.jpg</td>\n",
       "      <td>train/103730_mask.png</td>\n",
       "    </tr>\n",
       "  </tbody>\n",
       "</table>\n",
       "</div>"
      ],
      "text/plain": [
       "   image_id  split        sat_image_path              mask_path\n",
       "0    100694  train  train/100694_sat.jpg  train/100694_mask.png\n",
       "1    102122  train  train/102122_sat.jpg  train/102122_mask.png\n",
       "2     10233  train   train/10233_sat.jpg   train/10233_mask.png\n",
       "3    103665  train  train/103665_sat.jpg  train/103665_mask.png\n",
       "4    103730  train  train/103730_sat.jpg  train/103730_mask.png"
      ]
     },
     "execution_count": 28,
     "metadata": {},
     "output_type": "execute_result"
    }
   ],
   "source": [
    "metadata.head()"
   ]
  },
  {
   "cell_type": "code",
   "execution_count": 29,
   "metadata": {},
   "outputs": [
    {
     "data": {
      "text/plain": [
       "array(['train', 'valid', 'test'], dtype=object)"
      ]
     },
     "execution_count": 29,
     "metadata": {},
     "output_type": "execute_result"
    }
   ],
   "source": [
    "metadata.split.unique()"
   ]
  },
  {
   "cell_type": "code",
   "execution_count": 31,
   "metadata": {},
   "outputs": [
    {
     "data": {
      "text/html": [
       "<div>\n",
       "<style scoped>\n",
       "    .dataframe tbody tr th:only-of-type {\n",
       "        vertical-align: middle;\n",
       "    }\n",
       "\n",
       "    .dataframe tbody tr th {\n",
       "        vertical-align: top;\n",
       "    }\n",
       "\n",
       "    .dataframe thead th {\n",
       "        text-align: right;\n",
       "    }\n",
       "</style>\n",
       "<table border=\"1\" class=\"dataframe\">\n",
       "  <thead>\n",
       "    <tr style=\"text-align: right;\">\n",
       "      <th></th>\n",
       "      <th>name</th>\n",
       "      <th>r</th>\n",
       "      <th>g</th>\n",
       "      <th>b</th>\n",
       "    </tr>\n",
       "  </thead>\n",
       "  <tbody>\n",
       "    <tr>\n",
       "      <th>0</th>\n",
       "      <td>urban_land</td>\n",
       "      <td>0</td>\n",
       "      <td>255</td>\n",
       "      <td>255</td>\n",
       "    </tr>\n",
       "    <tr>\n",
       "      <th>1</th>\n",
       "      <td>agriculture_land</td>\n",
       "      <td>255</td>\n",
       "      <td>255</td>\n",
       "      <td>0</td>\n",
       "    </tr>\n",
       "    <tr>\n",
       "      <th>2</th>\n",
       "      <td>rangeland</td>\n",
       "      <td>255</td>\n",
       "      <td>0</td>\n",
       "      <td>255</td>\n",
       "    </tr>\n",
       "    <tr>\n",
       "      <th>3</th>\n",
       "      <td>forest_land</td>\n",
       "      <td>0</td>\n",
       "      <td>255</td>\n",
       "      <td>0</td>\n",
       "    </tr>\n",
       "    <tr>\n",
       "      <th>4</th>\n",
       "      <td>water</td>\n",
       "      <td>0</td>\n",
       "      <td>0</td>\n",
       "      <td>255</td>\n",
       "    </tr>\n",
       "    <tr>\n",
       "      <th>5</th>\n",
       "      <td>barren_land</td>\n",
       "      <td>255</td>\n",
       "      <td>255</td>\n",
       "      <td>255</td>\n",
       "    </tr>\n",
       "    <tr>\n",
       "      <th>6</th>\n",
       "      <td>unknown</td>\n",
       "      <td>0</td>\n",
       "      <td>0</td>\n",
       "      <td>0</td>\n",
       "    </tr>\n",
       "  </tbody>\n",
       "</table>\n",
       "</div>"
      ],
      "text/plain": [
       "               name    r    g    b\n",
       "0        urban_land    0  255  255\n",
       "1  agriculture_land  255  255    0\n",
       "2         rangeland  255    0  255\n",
       "3       forest_land    0  255    0\n",
       "4             water    0    0  255\n",
       "5       barren_land  255  255  255\n",
       "6           unknown    0    0    0"
      ]
     },
     "execution_count": 31,
     "metadata": {},
     "output_type": "execute_result"
    }
   ],
   "source": [
    "class_dict_path = r\"class_dict.csv\"\n",
    "class_dict = pd.read_csv(class_dict_path)\n",
    "class_dict"
   ]
  },
  {
   "cell_type": "code",
   "execution_count": 32,
   "metadata": {},
   "outputs": [
    {
     "data": {
      "text/plain": [
       "name    object\n",
       "r        int64\n",
       "g        int64\n",
       "b        int64\n",
       "dtype: object"
      ]
     },
     "execution_count": 32,
     "metadata": {},
     "output_type": "execute_result"
    }
   ],
   "source": [
    "class_dict.dtypes"
   ]
  },
  {
   "cell_type": "code",
   "execution_count": 33,
   "metadata": {},
   "outputs": [
    {
     "data": {
      "text/plain": [
       "{(0, 255, 255): 0,\n",
       " (255, 255, 0): 1,\n",
       " (255, 0, 255): 2,\n",
       " (0, 255, 0): 3,\n",
       " (0, 0, 255): 4,\n",
       " (255, 255, 255): 5,\n",
       " (0, 0, 0): 6}"
      ]
     },
     "execution_count": 33,
     "metadata": {},
     "output_type": "execute_result"
    }
   ],
   "source": [
    "# Create a mapping from (r, g, b) to class index\n",
    "class_map = {(row[\"r\"], row[\"g\"], row[\"b\"]): idx for idx, row in class_dict.iterrows()}\n",
    "class_map"
   ]
  },
  {
   "cell_type": "code",
   "execution_count": 34,
   "metadata": {},
   "outputs": [
    {
     "data": {
      "text/html": [
       "<div>\n",
       "<style scoped>\n",
       "    .dataframe tbody tr th:only-of-type {\n",
       "        vertical-align: middle;\n",
       "    }\n",
       "\n",
       "    .dataframe tbody tr th {\n",
       "        vertical-align: top;\n",
       "    }\n",
       "\n",
       "    .dataframe thead th {\n",
       "        text-align: right;\n",
       "    }\n",
       "</style>\n",
       "<table border=\"1\" class=\"dataframe\">\n",
       "  <thead>\n",
       "    <tr style=\"text-align: right;\">\n",
       "      <th></th>\n",
       "      <th>image_id</th>\n",
       "      <th>split</th>\n",
       "      <th>sat_image_path</th>\n",
       "      <th>mask_path</th>\n",
       "    </tr>\n",
       "  </thead>\n",
       "  <tbody>\n",
       "    <tr>\n",
       "      <th>0</th>\n",
       "      <td>100694</td>\n",
       "      <td>train</td>\n",
       "      <td>train/100694_sat.jpg</td>\n",
       "      <td>train/100694_mask.png</td>\n",
       "    </tr>\n",
       "    <tr>\n",
       "      <th>1</th>\n",
       "      <td>102122</td>\n",
       "      <td>train</td>\n",
       "      <td>train/102122_sat.jpg</td>\n",
       "      <td>train/102122_mask.png</td>\n",
       "    </tr>\n",
       "    <tr>\n",
       "      <th>2</th>\n",
       "      <td>10233</td>\n",
       "      <td>train</td>\n",
       "      <td>train/10233_sat.jpg</td>\n",
       "      <td>train/10233_mask.png</td>\n",
       "    </tr>\n",
       "    <tr>\n",
       "      <th>3</th>\n",
       "      <td>103665</td>\n",
       "      <td>train</td>\n",
       "      <td>train/103665_sat.jpg</td>\n",
       "      <td>train/103665_mask.png</td>\n",
       "    </tr>\n",
       "    <tr>\n",
       "      <th>4</th>\n",
       "      <td>103730</td>\n",
       "      <td>train</td>\n",
       "      <td>train/103730_sat.jpg</td>\n",
       "      <td>train/103730_mask.png</td>\n",
       "    </tr>\n",
       "    <tr>\n",
       "      <th>...</th>\n",
       "      <td>...</td>\n",
       "      <td>...</td>\n",
       "      <td>...</td>\n",
       "      <td>...</td>\n",
       "    </tr>\n",
       "    <tr>\n",
       "      <th>798</th>\n",
       "      <td>992507</td>\n",
       "      <td>train</td>\n",
       "      <td>train/992507_sat.jpg</td>\n",
       "      <td>train/992507_mask.png</td>\n",
       "    </tr>\n",
       "    <tr>\n",
       "      <th>799</th>\n",
       "      <td>994520</td>\n",
       "      <td>train</td>\n",
       "      <td>train/994520_sat.jpg</td>\n",
       "      <td>train/994520_mask.png</td>\n",
       "    </tr>\n",
       "    <tr>\n",
       "      <th>800</th>\n",
       "      <td>995492</td>\n",
       "      <td>train</td>\n",
       "      <td>train/995492_sat.jpg</td>\n",
       "      <td>train/995492_mask.png</td>\n",
       "    </tr>\n",
       "    <tr>\n",
       "      <th>801</th>\n",
       "      <td>997521</td>\n",
       "      <td>train</td>\n",
       "      <td>train/997521_sat.jpg</td>\n",
       "      <td>train/997521_mask.png</td>\n",
       "    </tr>\n",
       "    <tr>\n",
       "      <th>802</th>\n",
       "      <td>998002</td>\n",
       "      <td>train</td>\n",
       "      <td>train/998002_sat.jpg</td>\n",
       "      <td>train/998002_mask.png</td>\n",
       "    </tr>\n",
       "  </tbody>\n",
       "</table>\n",
       "<p>803 rows × 4 columns</p>\n",
       "</div>"
      ],
      "text/plain": [
       "     image_id  split        sat_image_path              mask_path\n",
       "0      100694  train  train/100694_sat.jpg  train/100694_mask.png\n",
       "1      102122  train  train/102122_sat.jpg  train/102122_mask.png\n",
       "2       10233  train   train/10233_sat.jpg   train/10233_mask.png\n",
       "3      103665  train  train/103665_sat.jpg  train/103665_mask.png\n",
       "4      103730  train  train/103730_sat.jpg  train/103730_mask.png\n",
       "..        ...    ...                   ...                    ...\n",
       "798    992507  train  train/992507_sat.jpg  train/992507_mask.png\n",
       "799    994520  train  train/994520_sat.jpg  train/994520_mask.png\n",
       "800    995492  train  train/995492_sat.jpg  train/995492_mask.png\n",
       "801    997521  train  train/997521_sat.jpg  train/997521_mask.png\n",
       "802    998002  train  train/998002_sat.jpg  train/998002_mask.png\n",
       "\n",
       "[803 rows x 4 columns]"
      ]
     },
     "execution_count": 34,
     "metadata": {},
     "output_type": "execute_result"
    }
   ],
   "source": [
    "metadata_train = metadata[metadata[\"split\"] == \"train\"]\n",
    "metadata_train"
   ]
  },
  {
   "cell_type": "code",
   "execution_count": 35,
   "metadata": {},
   "outputs": [],
   "source": [
    "# Initialize lists to hold images and masks\n",
    "images = []\n",
    "masks = []\n",
    "\n",
    "# Set image size\n",
    "img_size = (128, 128)\n",
    "\n",
    "\n",
    "for idx, row in metadata_train.iterrows():\n",
    "    img_path = row[\"sat_image_path\"]\n",
    "    mask_path = row[\"mask_path\"]\n",
    "\n",
    "    img = Image.open(img_path).resize(img_size)\n",
    "    images.append(np.array(img))\n",
    "\n",
    "    mask = Image.open(mask_path).resize(img_size, Image.NEAREST)\n",
    "    mask_array = np.array(mask)\n",
    "\n",
    "    class_indices = np.zeros((mask_array.shape[0], mask_array.shape[1]), dtype=np.uint8)\n",
    "    for color, idx in class_map.items():\n",
    "        color = np.array(color)  # Convert to numpy array\n",
    "        match = np.all(mask_array == color, axis=-1)\n",
    "        class_indices[match] = idx\n",
    "\n",
    "    masks.append(class_indices)"
   ]
  },
  {
   "cell_type": "code",
   "execution_count": 36,
   "metadata": {},
   "outputs": [],
   "source": [
    "# Normalize pixels to 0 to 1 range\n",
    "# Convert images and masks to numpy arrays\n",
    "images = np.array(images) / 255.0\n",
    "masks = np.array(masks)\n",
    "\n",
    "# Add channel dimension to make it equal to image dimensions or it won't work for combined processing inside model. i think.\n",
    "masks = np.expand_dims(masks, axis=-1)  "
   ]
  },
  {
   "cell_type": "code",
   "execution_count": 37,
   "metadata": {},
   "outputs": [],
   "source": [
    "# Split data into training and validation sets\n",
    "x_train, x_test, y_train, y_test = train_test_split(images, masks, test_size=0.1, random_state=42)"
   ]
  },
  {
   "cell_type": "code",
   "execution_count": 38,
   "metadata": {},
   "outputs": [],
   "source": [
    "num_classes = 7"
   ]
  },
  {
   "cell_type": "code",
   "execution_count": 39,
   "metadata": {},
   "outputs": [],
   "source": [
    "# # U-Net Model with VGG16 Encoder\n",
    "# base_model = VGG16(include_top=False, weights=\"imagenet\", input_shape=(128, 128, 3))\n",
    "\n",
    "# # Encoder\n",
    "# x1 = base_model.get_layer(\"block1_conv2\").output\n",
    "# x2 = base_model.get_layer(\"block2_conv2\").output\n",
    "# x3 = base_model.get_layer(\"block3_conv3\").output\n",
    "# x4 = base_model.get_layer(\"block4_conv3\").output\n",
    "\n",
    "# # Bottleneck\n",
    "# b = Conv2D(512, (3, 3), activation=\"relu\", padding=\"same\")(x4)\n",
    "# b = Conv2D(512, (3, 3), activation=\"relu\", padding=\"same\")(b)\n",
    "\n",
    "# # Decoder\n",
    "# u1 = UpSampling2D((2, 2))(b)\n",
    "# u1 = concatenate([u1, x3])\n",
    "# u1 = Conv2D(256, (3, 3), activation=\"relu\", padding=\"same\")(u1)\n",
    "# u1 = Conv2D(256, (3, 3), activation=\"relu\", padding=\"same\")(u1)\n",
    "\n",
    "# u2 = UpSampling2D((2, 2))(u1)\n",
    "# u2 = concatenate([u2, x2])\n",
    "# u2 = Conv2D(128, (3, 3), activation=\"relu\", padding=\"same\")(u2)\n",
    "# u2 = Conv2D(128, (3, 3), activation=\"relu\", padding=\"same\")(u2)\n",
    "\n",
    "# u3 = UpSampling2D((2, 2))(u2)\n",
    "# u3 = concatenate([u3, x1])\n",
    "# u3 = Conv2D(64, (3, 3), activation=\"relu\", padding=\"same\")(u3)\n",
    "# u3 = Conv2D(64, (3, 3), activation=\"relu\", padding=\"same\")(u3)\n",
    "\n",
    "# outputs = Conv2D(num_classes, (1, 1), activation=\"softmax\")(u3)\n",
    "\n",
    "# model = Model(inputs=base_model.input, outputs=outputs)\n",
    "\n",
    "# # Compile model\n",
    "# model.compile(optimizer=Adam(), loss=SparseCategoricalCrossentropy(), metrics=[\"accuracy\"])\n",
    "\n",
    "# # Define callbacks\n",
    "# callbacks = [\n",
    "#     ModelCheckpoint(\"unet_model1.keras\", save_best_only=True, monitor=\"val_loss\"),\n",
    "#     EarlyStopping(monitor=\"val_loss\", patience=5, restore_best_weights=True),\n",
    "# ]"
   ]
  },
  {
   "cell_type": "code",
   "execution_count": 40,
   "metadata": {},
   "outputs": [],
   "source": [
    "# # Train the model\n",
    "# history = model.fit(\n",
    "#     x_train,\n",
    "#     y_train,\n",
    "#     epochs=10,\n",
    "#     batch_size=8,\n",
    "#     validation_split=0.1,\n",
    "#     callbacks=callbacks,\n",
    "# )"
   ]
  },
  {
   "cell_type": "code",
   "execution_count": 41,
   "metadata": {},
   "outputs": [],
   "source": [
    "# Load the saved model\n",
    "model = tf.keras.models.load_model(\"green_model2.h5\")"
   ]
  },
  {
   "cell_type": "code",
   "execution_count": 42,
   "metadata": {},
   "outputs": [
    {
     "name": "stdout",
     "output_type": "stream",
     "text": [
      "\u001b[1m3/3\u001b[0m \u001b[32m━━━━━━━━━━━━━━━━━━━━\u001b[0m\u001b[37m\u001b[0m \u001b[1m4s\u001b[0m 1s/step\n"
     ]
    }
   ],
   "source": [
    "# Predict on validation set\n",
    "predictions = model.predict(x_test)"
   ]
  },
  {
   "cell_type": "code",
   "execution_count": 43,
   "metadata": {},
   "outputs": [
    {
     "name": "stdout",
     "output_type": "stream",
     "text": [
      "Green Coverage for the selected image: 27.044677734375%\n"
     ]
    }
   ],
   "source": [
    "# Select the fifth image's predictions\n",
    "single_image_prediction = predictions[5]\n",
    "\n",
    "# Define class indices for green space\n",
    "forest_class_index = 3\n",
    "agriculture_class_index = 1\n",
    "\n",
    "# Calculate green space for the selected image\n",
    "green_pixels = np.sum(\n",
    "    (np.argmax(single_image_prediction, axis=-1) == forest_class_index)\n",
    "    | (np.argmax(single_image_prediction, axis=-1) == agriculture_class_index)\n",
    ")\n",
    "\n",
    "# Calculate the total number of pixels for the selected image\n",
    "total_pixels = single_image_prediction.shape[0] * single_image_prediction.shape[1]\n",
    "\n",
    "# Calculate green coverage percentage for the selected image\n",
    "green_coverage_percent = (green_pixels / total_pixels) * 100\n",
    "\n",
    "print(f\"Green Coverage for the selected image: {green_coverage_percent}%\")"
   ]
  },
  {
   "cell_type": "code",
   "execution_count": 44,
   "metadata": {},
   "outputs": [
    {
     "name": "stdout",
     "output_type": "stream",
     "text": [
      "Unique predicted classes in the image: [0 1 2 3]\n"
     ]
    }
   ],
   "source": [
    "# Check unique class predictions\n",
    "unique_classes = np.unique(np.argmax(single_image_prediction, axis=-1))\n",
    "print(\"Unique predicted classes in the image:\", unique_classes)"
   ]
  },
  {
   "cell_type": "code",
   "execution_count": null,
   "metadata": {},
   "outputs": [],
   "source": []
  }
 ],
 "metadata": {
  "kernelspec": {
   "display_name": "myenv",
   "language": "python",
   "name": "python3"
  },
  "language_info": {
   "codemirror_mode": {
    "name": "ipython",
    "version": 3
   },
   "file_extension": ".py",
   "mimetype": "text/x-python",
   "name": "python",
   "nbconvert_exporter": "python",
   "pygments_lexer": "ipython3",
   "version": "3.12.1"
  }
 },
 "nbformat": 4,
 "nbformat_minor": 2
}
